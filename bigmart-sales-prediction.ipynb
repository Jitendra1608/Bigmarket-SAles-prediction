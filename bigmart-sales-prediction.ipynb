{
 "cells": [
  {
   "cell_type": "markdown",
   "metadata": {
    "_uuid": "4235fb9a93a98ed1f36bb5c23c42f5fdd0531e6e"
   },
   "source": [
    "**BigMart Sales Prediction practice problem**\n",
    "\n",
    "We have train (8523) and test (5681) data set, train data set has both input and output variable(s). We need to predict the sales for test data set.\n",
    "\n",
    "\n",
    "* Item_Identifier: Unique product ID\n",
    "\n",
    "* Item_Weight: Weight of product\n",
    "\n",
    "* Item_Fat_Content: Whether the product is low fat or not\n",
    "\n",
    "* Item_Visibility: The % of total display area of all products in a store allocated to the particular product\n",
    "\n",
    "* Item_Type: The category to which the product belongs\n",
    "\n",
    "* Item_MRP: Maximum Retail Price (list price) of the product\n",
    "\n",
    "* Outlet_Identifier: Unique store ID\n",
    "\n",
    "* Outlet_Establishment_Year: The year in which store was established\n",
    "\n",
    "* Outlet_Size: The size of the store in terms of ground area covered\n",
    "\n",
    "* Outlet_Location_Type: The type of city in which the store is located\n",
    "\n",
    "* Outlet_Type: Whether the outlet is just a grocery store or some sort of supermarket\n",
    "\n",
    "* Item_Outlet_Sales: Sales of the product in the particulat store. This is the outcome variable to be predicted."
   ]
  },
  {
   "cell_type": "markdown",
   "metadata": {
    "_uuid": "517e5d8c5d0679b9fdfe580924e2d7d5f13d426a"
   },
   "source": [
    "**Load Libraries**"
   ]
  },
  {
   "cell_type": "code",
   "execution_count": null,
   "metadata": {
    "_cell_guid": "b1076dfc-b9ad-4769-8c92-a6c4dae69d19",
    "_uuid": "8f2839f25d086af736a60e9eeb907d3b93b6e0e5"
   },
   "outputs": [],
   "source": [
    "# This Python 3 environment comes with many helpful analytics libraries installed\n",
    "# It is defined by the kaggle/python docker image: https://github.com/kaggle/docker-python\n",
    "# For example, here's several helpful packages to load in \n",
    "\n",
    "import numpy as np # linear algebra\n",
    "import pandas as pd # data processing, CSV file I/O (e.g. pd.read_csv)\n",
    "import seaborn as sns\n",
    "import matplotlib.pyplot as plt\n",
    "%matplotlib inline\n"
   ]
  },
  {
   "cell_type": "code",
   "execution_count": null,
   "metadata": {
    "_cell_guid": "79c7e3d0-c299-4dcb-8224-4455121ee9b0",
    "_uuid": "d629ff2d2480ee46fbb7e2d37f6b5fab8052498a"
   },
   "outputs": [],
   "source": [
    "\n",
    "# Input data files are available in the \"../input/\" directory.\n",
    "# For example, running this (by clicking run or pressing Shift+Enter) will list the files in the input directory\n",
    "\n",
    "import os\n",
    "print(os.listdir(\"../input\"))\n"
   ]
  },
  {
   "cell_type": "markdown",
   "metadata": {
    "_uuid": "53eb780b85ad11a4982547dd5b7674e60a0e8b9c"
   },
   "source": [
    "**Data Mining**"
   ]
  },
  {
   "cell_type": "code",
   "execution_count": null,
   "metadata": {
    "_uuid": "dda1ef778ba3c976a5e9acae8f49a04f218f2d2b"
   },
   "outputs": [],
   "source": [
    "train = pd.read_csv('../input/Train.csv')\n",
    "test = pd.read_csv('../input/Test.csv')"
   ]
  },
  {
   "cell_type": "markdown",
   "metadata": {
    "_uuid": "e7eb80d5e993494ead6a3b2c6d4e46875f892da4"
   },
   "source": [
    "**Exploratory Data Analysis**"
   ]
  },
  {
   "cell_type": "code",
   "execution_count": null,
   "metadata": {
    "_uuid": "b55ec00b1bb7d75b6d645cf40203738a62206abb"
   },
   "outputs": [],
   "source": [
    "train.shape, test.shape"
   ]
  },
  {
   "cell_type": "code",
   "execution_count": null,
   "metadata": {
    "_uuid": "7bfa6b1e37235706ca7e226520386aadd0dc7bc2"
   },
   "outputs": [],
   "source": [
    "train.columns"
   ]
  },
  {
   "cell_type": "code",
   "execution_count": null,
   "metadata": {
    "_uuid": "6f4e19cba82c8f42f80a9b78dda1584294eac66a"
   },
   "outputs": [],
   "source": [
    "test.columns"
   ]
  },
  {
   "cell_type": "markdown",
   "metadata": {
    "_uuid": "dae41b5eef5eda45e38c43e265624e7627e13d50"
   },
   "source": [
    "We need to predict Item_Outlet_Sales for given test data\n",
    "\n",
    "lets first merge the train and test data for Exploratory Data Analysis\n"
   ]
  },
  {
   "cell_type": "code",
   "execution_count": null,
   "metadata": {
    "_uuid": "ba5c08031cb977f55eb3672c9c4ac8a961ee801f"
   },
   "outputs": [],
   "source": [
    "train['source'] = 'train'\n",
    "test['source'] = 'test'\n",
    "test['Item_Outlet_Sales'] = 0\n",
    "data = pd.concat([train, test], sort = False)\n",
    "print(train.shape, test.shape, data.shape)"
   ]
  },
  {
   "cell_type": "code",
   "execution_count": null,
   "metadata": {
    "_uuid": "54d252a73b579c3fbd431df4061a3888be362502"
   },
   "outputs": [],
   "source": [
    "data['Item_Outlet_Sales'].describe()"
   ]
  },
  {
   "cell_type": "code",
   "execution_count": null,
   "metadata": {
    "_uuid": "e722fa138f537cfd7ac63403f17df9731f3215ba"
   },
   "outputs": [],
   "source": [
    "sns.distplot(data['Item_Outlet_Sales'])"
   ]
  },
  {
   "cell_type": "markdown",
   "metadata": {
    "_uuid": "be3b10ad2ad49cf355460cf59a384492c7924187"
   },
   "source": [
    "1. Deviate from the normal distribution.\n",
    "1. Have appreciable positive skewness.\n",
    "1. Show peakedness."
   ]
  },
  {
   "cell_type": "code",
   "execution_count": null,
   "metadata": {
    "_uuid": "cd3c64fc99ef3955f6b82d97adfe4c479d025f4b"
   },
   "outputs": [],
   "source": [
    "print('Skewness: %f' % data['Item_Outlet_Sales'].skew())\n",
    "print('Kurtsis: %f' %data['Item_Outlet_Sales'].kurt())"
   ]
  },
  {
   "cell_type": "markdown",
   "metadata": {
    "_uuid": "2696412e65f2c8005968ca0fc203bdad50dd5a53"
   },
   "source": [
    "Lets look at numerical and categorial variables"
   ]
  },
  {
   "cell_type": "code",
   "execution_count": null,
   "metadata": {
    "_uuid": "a44083375427983ea3fb584fa0b494e48b28be18"
   },
   "outputs": [],
   "source": [
    "data.dtypes"
   ]
  },
  {
   "cell_type": "code",
   "execution_count": null,
   "metadata": {
    "_uuid": "8a75928381ac692a37401beebeb52ac605413671"
   },
   "outputs": [],
   "source": [
    "categorial_features = data.select_dtypes(include=[np.object])\n",
    "categorial_features.head(2)"
   ]
  },
  {
   "cell_type": "code",
   "execution_count": null,
   "metadata": {
    "_uuid": "b37b8f20c7fb42ab0a15b4993a6836dda33ae9e8"
   },
   "outputs": [],
   "source": [
    "numerical_features = data.select_dtypes(include=[np.number])\n",
    "numerical_features.head(2)"
   ]
  },
  {
   "cell_type": "code",
   "execution_count": null,
   "metadata": {
    "_uuid": "98e59cdaaea1918d36bfd5bf60d0109577d6cc2b"
   },
   "outputs": [],
   "source": [
    "data['Outlet_Establishment_Year'].value_counts()"
   ]
  },
  {
   "cell_type": "markdown",
   "metadata": {
    "_uuid": "af4d995f889786fd4e9e5b4ad7f8246859063f07"
   },
   "source": [
    "**Finding Missing values**"
   ]
  },
  {
   "cell_type": "code",
   "execution_count": null,
   "metadata": {
    "_uuid": "c8b53867ce9b9ca3f7cc1101139ff2a8ae0ef753"
   },
   "outputs": [],
   "source": [
    "data.apply(lambda x: sum(x.isnull()))"
   ]
  },
  {
   "cell_type": "markdown",
   "metadata": {
    "_uuid": "c22c687091d40d757b18ac2f4975710315ea93b3"
   },
   "source": [
    "**Some observations:**\n",
    "\n",
    "*  **Item_Visibility** has a min value of zero. This makes no practical sense because when a product is being sold in a store, the visibility cannot be 0.\n",
    "\n",
    "* **Outlet_Establishment_Years** vary from 1985 to 2009. The values might not be apt in this form. Rather, if we can convert them to how old the particular store is, it should have a better impact on sales.\n",
    "\n",
    "* The lower ‘count’ of **Item_Weight** and **Outlet_Size** confirms the findings from the missing value check."
   ]
  },
  {
   "cell_type": "code",
   "execution_count": null,
   "metadata": {
    "_uuid": "7dde32df957f3e9e385c5d2e6e271a2f9ad48780"
   },
   "outputs": [],
   "source": [
    "data.apply(lambda x : len(x.unique()))"
   ]
  },
  {
   "cell_type": "markdown",
   "metadata": {
    "_uuid": "78828c74a6db890dc8b9f1ccabeba97d3fc2ac63"
   },
   "source": [
    "This tells us that there are 1559 products and 10 outlets/stores (which was also mentioned in problem statement). Another thing that should catch attention is that Item_Type has 16 unique values. Let’s explore further using the frequency of different categories in each nominal variable."
   ]
  },
  {
   "cell_type": "code",
   "execution_count": null,
   "metadata": {
    "_uuid": "eddb5de9b8042d9a4b11fadf866bd7f0dcb61bac"
   },
   "outputs": [],
   "source": [
    "#frequency of categories\n",
    "for col in categorial_features:\n",
    "    print('\\n%s column: '%col)\n",
    "    print(data[col].value_counts())"
   ]
  },
  {
   "cell_type": "markdown",
   "metadata": {
    "_uuid": "8001b863279deba5030161cecb3c5b37589c896a"
   },
   "source": [
    "**Lets start looking Outlet_Size, Outlet_Location_Type, and\tOutlet_Type distribution in Item_Outlet_Sale**"
   ]
  },
  {
   "cell_type": "code",
   "execution_count": null,
   "metadata": {
    "_uuid": "1eaab9f2766eb4aeb593d841b442047a47918a46"
   },
   "outputs": [],
   "source": [
    "plt.figure(figsize = (10,9))\n",
    "\n",
    "plt.subplot(311)\n",
    "sns.boxplot(x='Outlet_Size', y='Item_Outlet_Sales', data=data, palette=\"Set1\")\n",
    "\n",
    "plt.subplot(312)\n",
    "sns.boxplot(x='Outlet_Location_Type', y='Item_Outlet_Sales', data=data, palette=\"Set1\")\n",
    "\n",
    "plt.subplot(313)\n",
    "sns.boxplot(x='Outlet_Type', y='Item_Outlet_Sales', data=data, palette=\"Set1\")\n",
    "\n",
    "plt.subplots_adjust(wspace = 0.2, hspace = 0.4,top = 1.5)\n",
    "\n",
    "plt.show()"
   ]
  },
  {
   "cell_type": "code",
   "execution_count": null,
   "metadata": {
    "_uuid": "b1a5630cb7239022bc9db5d9453b52f711ee1516"
   },
   "outputs": [],
   "source": [
    "plt.figure(figsize = (14,9))\n",
    "\n",
    "plt.subplot(211)\n",
    "ax = sns.boxplot(x='Outlet_Identifier', y='Item_Outlet_Sales', data=data, palette=\"Set1\")\n",
    "ax.set_title(\"Outlet_Identifier vs. Item_Outlet_Sales\", fontsize=15)\n",
    "ax.set_xlabel(\"\", fontsize=12)\n",
    "ax.set_ylabel(\"Item_Outlet_Sales\", fontsize=12)\n",
    "\n",
    "plt.subplot(212)\n",
    "ax = sns.boxplot(x='Item_Type', y='Item_Outlet_Sales', data=data, palette=\"Set1\")\n",
    "ax.set_title(\"Item_Type vs. Item_Outlet_Sales\", fontsize=15)\n",
    "ax.set_xlabel(\"\", fontsize=12)\n",
    "ax.set_ylabel(\"Item_Outlet_Sales\", fontsize=12)\n",
    "\n",
    "plt.subplots_adjust(hspace = 0.9, top = 0.9)\n",
    "plt.setp(ax.get_xticklabels(), rotation=45)\n",
    "\n",
    "plt.show()\n",
    "\n"
   ]
  },
  {
   "cell_type": "markdown",
   "metadata": {
    "_uuid": "454aa80c5eac39669879be6e38c4d5815447694f"
   },
   "source": [
    "**Data Cleaning and Imputing Missing Values**\n",
    "\n",
    "We found two variables with missing values – Item_Weight and Outlet_Size. Lets impute the former by the average weight of the particular item. This can be done as:"
   ]
  },
  {
   "cell_type": "code",
   "execution_count": null,
   "metadata": {
    "_uuid": "007ec6b20d62d581ba20d438f0e2f640fea82ebd"
   },
   "outputs": [],
   "source": [
    "item_avg_weight = data.pivot_table(values='Item_Weight', index='Item_Identifier')\n",
    "\n",
    "missing_values = data['Item_Weight'].isnull()\n",
    "print('Missing values: %d' %sum(missing_values))\n",
    "\n",
    "data.loc[missing_values,'Item_Weight']  = data.loc[missing_values,'Item_Identifier'].apply(lambda x: item_avg_weight.at[x,'Item_Weight'])\n",
    "print('Missing values after immputation %d' %sum(data['Item_Weight'].isnull()))"
   ]
  },
  {
   "cell_type": "markdown",
   "metadata": {
    "_uuid": "e8d479dd34ebf44f7662fb052a02b1f1634cd3c0"
   },
   "source": [
    "This confirms that the column has no missing values now. Lets impute Outlet_Size with the mode of the Outlet_Size for the particular type of outlet."
   ]
  },
  {
   "cell_type": "code",
   "execution_count": null,
   "metadata": {
    "_uuid": "211dffbdacaa27175cf56373ab965c99b7830eee"
   },
   "outputs": [],
   "source": [
    "#Import mode function:\n",
    "from scipy.stats import mode\n",
    "\n",
    "#Determing the mode for each\n",
    "outlet_size_mode = data.pivot_table(values='Outlet_Size', columns='Outlet_Type',aggfunc=(lambda x:mode(x.astype('str')).mode[0]))\n",
    "print ('Mode for each Outlet_Type:')\n",
    "print (outlet_size_mode)\n",
    "\n",
    "#Get a boolean variable specifying missing Item_Weight values\n",
    "missing_values = data['Outlet_Size'].isnull() \n",
    "\n",
    "#Impute data and check #missing values before and after imputation to confirm\n",
    "print ('\\nOrignal #missing: %d'% sum(missing_values))\n",
    "data.loc[missing_values,'Outlet_Size'] = data.loc[missing_values,'Outlet_Type'].apply(lambda x: outlet_size_mode[x])\n",
    "print (sum(data['Outlet_Size'].isnull()))"
   ]
  },
  {
   "cell_type": "markdown",
   "metadata": {
    "_uuid": "ae2fb9edd5f8fdb6ba4f8587e97ea348b5f416af"
   },
   "source": [
    "**Modify Item_Visibility**\n",
    "\n",
    "We noticed that the minimum value here is 0, which makes no practical sense. Lets consider it like missing information and impute it with mean visibility of that product."
   ]
  },
  {
   "cell_type": "code",
   "execution_count": null,
   "metadata": {
    "_uuid": "5b36399204051b4a6ee5ed1b81230c6f37e12387"
   },
   "outputs": [],
   "source": [
    "#Determine average visibility of a product\n",
    "visibility_avg = data.pivot_table(values='Item_Visibility', index='Item_Identifier')\n",
    "\n",
    "#Impute 0 values with mean visibility of that product:\n",
    "missing_values = (data['Item_Visibility'] == 0)\n",
    "\n",
    "print ('Number of 0 values initially: %d'%sum(missing_values))\n",
    "data.loc[missing_values,'Item_Visibility'] = data.loc[missing_values,'Item_Identifier'].apply(lambda x: visibility_avg.at[x, 'Item_Visibility'])\n",
    "print ('Number of 0 values after modification: %d'%sum(data['Item_Visibility'] == 0))"
   ]
  },
  {
   "cell_type": "markdown",
   "metadata": {
    "_uuid": "f279f4f8ad4329fa1efe2a89d96b7354b554d42b"
   },
   "source": [
    "**Create a broad category of Type of Item**\n",
    "\n",
    "Earlier we saw that the Item_Type variable has 16 categories which might prove to be very useful in analysis. So its a good idea to combine them. One way could be to manually assign a new category to each. But there’s a catch here. If you look at the Item_Identifier, i.e. the unique ID of each item, it starts with either FD, DR or NC. If you see the categories, these look like being Food, Drinks and Non-Consumables. So I’ve used the Item_Identifier variable to create a new column:"
   ]
  },
  {
   "cell_type": "code",
   "execution_count": null,
   "metadata": {
    "_uuid": "caae923caa1225a6888d7a678241c3a8e6c4cf3a"
   },
   "outputs": [],
   "source": [
    "#Get the first two characters of ID:\n",
    "data['Item_Type_Combined'] = data['Item_Identifier'].apply(lambda x: x[0:2])\n",
    "#Rename them to more intuitive categories:\n",
    "data['Item_Type_Combined'] = data['Item_Type_Combined'].map({'FD':'Food',\n",
    "                                                             'NC':'Non-Consumable',\n",
    "                                                             'DR':'Drinks'})\n",
    "data['Item_Type_Combined'].value_counts()"
   ]
  },
  {
   "cell_type": "markdown",
   "metadata": {
    "_uuid": "e070d3be002edb07c9885a4d836e7d79627b33ba"
   },
   "source": [
    "**Modify categories of Item_Fat_Content**\n",
    "\n",
    "We found typos and difference in representation in categories of Item_Fat_Content variable. This can be corrected as:"
   ]
  },
  {
   "cell_type": "code",
   "execution_count": null,
   "metadata": {
    "_uuid": "781d1913bf6b207283ef9d098e128b9dcfc7be9b"
   },
   "outputs": [],
   "source": [
    "#Change categories of low fat:\n",
    "print('Original Categories:')\n",
    "print(data['Item_Fat_Content'].value_counts())\n",
    "\n",
    "print('\\nModified Categories:')\n",
    "data['Item_Fat_Content'] = data['Item_Fat_Content'].replace({'LF':'Low Fat',\n",
    "                                                             'reg':'Regular',\n",
    "                                                             'low fat':'Low Fat'})\n",
    "print(data['Item_Fat_Content'].value_counts())"
   ]
  },
  {
   "cell_type": "code",
   "execution_count": null,
   "metadata": {
    "_uuid": "66df5b78bd772859d4c959e508869a3da9dcf1ef"
   },
   "outputs": [],
   "source": [
    "plt.figure(figsize = (10,9))\n",
    "\n",
    "plt.subplot(211)\n",
    "sns.boxplot(x='Item_Type_Combined', y='Item_Outlet_Sales', data=data, palette=\"Set1\")\n",
    "\n",
    "plt.subplot(212)\n",
    "sns.boxplot(x='Item_Fat_Content', y='Item_Outlet_Sales', data=data, palette=\"Set1\")\n",
    "\n",
    "plt.subplots_adjust(wspace = 0.2, hspace = 0.4,top = 1.5)\n",
    "\n",
    "plt.show()"
   ]
  },
  {
   "cell_type": "code",
   "execution_count": null,
   "metadata": {
    "_uuid": "c98b7c8a7145e30b1fbc5396f10447314166d8b9"
   },
   "outputs": [],
   "source": [
    "plt.figure(figsize = (14,9))\n",
    "\n",
    "plt.subplot(211)\n",
    "ax = sns.boxplot(x='Outlet_Identifier', y='Item_Outlet_Sales', data=data, palette=\"Set1\")\n",
    "ax.set_title(\"Outlet_Identifier vs. Item_Outlet_Sales\", fontsize=15)\n",
    "ax.set_xlabel(\"\", fontsize=12)\n",
    "ax.set_ylabel(\"Item_Outlet_Sales\", fontsize=12)\n",
    "\n",
    "plt.subplot(212)\n",
    "ax = sns.boxplot(x='Item_Type', y='Item_Outlet_Sales', data=data, palette=\"Set1\")\n",
    "ax.set_title(\"Item_Type vs. Item_Outlet_Sales\", fontsize=15)\n",
    "ax.set_xlabel(\"\", fontsize=12)\n",
    "ax.set_ylabel(\"Item_Outlet_Sales\", fontsize=12)\n",
    "\n",
    "plt.subplots_adjust(hspace = 0.9, top = 0.9)\n",
    "plt.setp(ax.get_xticklabels(), rotation=45)\n",
    "\n",
    "plt.show()"
   ]
  },
  {
   "cell_type": "code",
   "execution_count": null,
   "metadata": {
    "_uuid": "c86bf5257d25acd1853ba3644788ca5a1b741140"
   },
   "outputs": [],
   "source": [
    "data.index = data['Outlet_Establishment_Year']\n",
    "data.index"
   ]
  },
  {
   "cell_type": "code",
   "execution_count": null,
   "metadata": {
    "_uuid": "cb02fd15225cebdabe6f6aebd17d713f67df75fe"
   },
   "outputs": [],
   "source": [
    "df = data.loc[:,['Item_Outlet_Sales']]\n",
    "df.head(2)"
   ]
  },
  {
   "cell_type": "code",
   "execution_count": null,
   "metadata": {
    "_uuid": "ca362b31fb7af0c81a933df135b8f454dcdd98a3"
   },
   "outputs": [],
   "source": [
    "data.groupby('Outlet_Establishment_Year')['Item_Outlet_Sales'].mean().plot.bar()"
   ]
  },
  {
   "cell_type": "markdown",
   "metadata": {
    "_uuid": "9680033a4483072ccc2d3f538328adfa39fc4201"
   },
   "source": [
    "**Determine the years of operation of a store**\n",
    "We wanted to make a new column depicting the years of operation of a store. This can be done as:"
   ]
  },
  {
   "cell_type": "code",
   "execution_count": null,
   "metadata": {
    "_uuid": "d8bd53d863d8a85a23acfbc412a230830ace1cc2"
   },
   "outputs": [],
   "source": [
    "data['Outlet_Years'] = 2009 - data['Outlet_Establishment_Year']\n",
    "data['Outlet_Years'].describe()"
   ]
  },
  {
   "cell_type": "code",
   "execution_count": null,
   "metadata": {
    "_uuid": "0dd7c0d26c3ec533dcf1b138acb181cc06f3301f"
   },
   "outputs": [],
   "source": [
    "data.index = data['Outlet_Establishment_Year']\n",
    "df = data.loc[:,['Item_Outlet_Sales']]\n",
    "ts = df['Item_Outlet_Sales']\n",
    "plt.figure(figsize=(12,8))\n",
    "plt.plot(ts, label='Item_Outlet_Sales')\n",
    "plt.title('Outlet Establishment Year')\n",
    "plt.xlabel('Time(year-month)')\n",
    "plt.ylabel('Item_Outlet_Sales')\n",
    "plt.legend(loc = 'best')\n",
    "plt.show()"
   ]
  },
  {
   "cell_type": "code",
   "execution_count": null,
   "metadata": {
    "_uuid": "68b36947636371b8f57653cb9a96839c6ef8ba07"
   },
   "outputs": [],
   "source": [
    "plt.figure(figsize = (12,6))\n",
    "ax = sns.boxplot(x = 'Outlet_Years', y = 'Item_Outlet_Sales', data = data)\n",
    "ax.set_xticklabels(ax.get_xticklabels(), rotation = 45)\n",
    "ax.set_title('Outlet years vs Item_Outlet_Sales')\n",
    "ax.set_xlabel('', fontsize = 15)\n",
    "ax.set_ylabel('Item_Outlet_Sales', fontsize = 15)\n",
    "\n",
    "plt.show()"
   ]
  },
  {
   "cell_type": "code",
   "execution_count": null,
   "metadata": {
    "_uuid": "262d6534bf4bdde3bcb0c0eb6752b00e2903a516"
   },
   "outputs": [],
   "source": [
    "temp_data = data.loc[data['Outlet_Establishment_Year'] == 1998]"
   ]
  },
  {
   "cell_type": "code",
   "execution_count": null,
   "metadata": {
    "_uuid": "2f883ec73ea860fa839787d9137aad1d97645679"
   },
   "outputs": [],
   "source": [
    "temp_data['Outlet_Type'].value_counts()"
   ]
  },
  {
   "cell_type": "markdown",
   "metadata": {
    "_uuid": "74836d692a910f17cdc1e74064b6eb1d1fb298f2"
   },
   "source": [
    "Based on the observation from 1998 data, we can see there is only Grocery Store Type as Outlet_Type\n",
    "thus Item_Outlet_Sale is minimum.\n",
    "\n",
    "Thought to remove those data as part of data cleaning for more accurate model, however we need to check first it's posibilities in test data as well. "
   ]
  },
  {
   "cell_type": "code",
   "execution_count": null,
   "metadata": {
    "_uuid": "1e4b711b1222e21af055a2a67238ec2acd228bab"
   },
   "outputs": [],
   "source": [
    "test_temp_data = test.loc[test['Outlet_Establishment_Year'] == 1998]\n",
    "test_temp_data['Outlet_Type'].value_counts()"
   ]
  },
  {
   "cell_type": "markdown",
   "metadata": {
    "_uuid": "f37f0e2372097da20f9d472d47e521013083a242"
   },
   "source": [
    "Which shows resonably very low data however we can not remove it. so lets keep it as it is."
   ]
  },
  {
   "cell_type": "markdown",
   "metadata": {
    "_uuid": "edeedb22d1dd67343a0b6f46896004fa7ccfc1a1"
   },
   "source": [
    "**Numerical and One-Hot Coding of Categorical variables**"
   ]
  },
  {
   "cell_type": "code",
   "execution_count": null,
   "metadata": {
    "_uuid": "3d3b6a906c0b380c00798e63b735f0fe1714baf6"
   },
   "outputs": [],
   "source": [
    "#Import library:\n",
    "from sklearn.preprocessing import LabelEncoder\n",
    "le = LabelEncoder()\n",
    "#New variable for outlet\n",
    "data['Outlet'] = le.fit_transform(data['Outlet_Identifier'])\n",
    "var_mod = ['Item_Fat_Content','Outlet_Location_Type','Outlet_Size','Item_Type_Combined','Outlet_Type','Outlet']\n",
    "le = LabelEncoder()\n",
    "for i in var_mod:\n",
    "    data[i] = le.fit_transform(data[i])"
   ]
  },
  {
   "cell_type": "code",
   "execution_count": null,
   "metadata": {
    "_uuid": "679f00d12da306e94fd2c5aed531200ee18f6abf"
   },
   "outputs": [],
   "source": [
    "#One Hot Coding:\n",
    "data = pd.get_dummies(data, columns=['Item_Fat_Content','Outlet_Location_Type','Outlet_Size','Outlet_Type',\n",
    "                              'Item_Type_Combined','Outlet'])"
   ]
  },
  {
   "cell_type": "code",
   "execution_count": null,
   "metadata": {
    "_uuid": "d8e145f5473c75efe82a9be9694cc620d924058f"
   },
   "outputs": [],
   "source": [
    "data.dtypes"
   ]
  },
  {
   "cell_type": "code",
   "execution_count": null,
   "metadata": {
    "_uuid": "72ffe0cc14e341da24fda6fda63b79f0b42b68ab"
   },
   "outputs": [],
   "source": [
    "#Drop the columns which have been converted to different types:\n",
    "data.drop(['Item_Type','Outlet_Establishment_Year'],axis=1,inplace=True)\n",
    "\n",
    "#Divide into test and train:\n",
    "train = data.loc[data['source']==\"train\"]\n",
    "test = data.loc[data['source']==\"test\"]\n",
    "\n",
    "#Drop unnecessary columns:\n",
    "test.drop(['Item_Outlet_Sales','source'],axis=1,inplace=True)\n",
    "train.drop(['source'],axis=1,inplace=True)\n",
    "\n",
    "#Export files as modified versions:\n",
    "train.to_csv(\"train_modified.csv\",index=False)\n",
    "test.to_csv(\"test_modified.csv\",index=False)"
   ]
  },
  {
   "cell_type": "markdown",
   "metadata": {
    "_uuid": "add14c627cae1006eaea7ba601894e005badaf06"
   },
   "source": [
    "Now our data is ready for model building"
   ]
  },
  {
   "cell_type": "code",
   "execution_count": null,
   "metadata": {
    "_uuid": "2949f819799d525db86325bebed2b6f412e87064"
   },
   "outputs": [],
   "source": []
  }
 ],
 "metadata": {
  "kernelspec": {
   "display_name": "Python 3",
   "language": "python",
   "name": "python3"
  },
  "language_info": {
   "codemirror_mode": {
    "name": "ipython",
    "version": 3
   },
   "file_extension": ".py",
   "mimetype": "text/x-python",
   "name": "python",
   "nbconvert_exporter": "python",
   "pygments_lexer": "ipython3",
   "version": "3.7.6"
  }
 },
 "nbformat": 4,
 "nbformat_minor": 1
}
